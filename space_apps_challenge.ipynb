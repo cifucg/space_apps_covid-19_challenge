{
 "cells": [
  {
   "cell_type": "markdown",
   "metadata": {},
   "source": [
    "Importamos dependencias"
   ]
  },
  {
   "cell_type": "code",
   "execution_count": 78,
   "metadata": {},
   "outputs": [],
   "source": [
    "import pandas as pd\n",
    "import numpy as np\n",
    "import seaborn as sns\n",
    "from datetime import datetime\n",
    "from matplotlib.dates import DateFormatter\n",
    "import matplotlib.pyplot as plt\n"
   ]
  },
  {
   "cell_type": "code",
   "execution_count": 2,
   "metadata": {},
   "outputs": [],
   "source": [
    "df = pd.read_csv('./data/covid19-cases-worldwide.csv')"
   ]
  },
  {
   "cell_type": "markdown",
   "metadata": {},
   "source": [
    "Procesamos la fecha para convertirla en datetime"
   ]
  },
  {
   "cell_type": "code",
   "execution_count": 65,
   "metadata": {},
   "outputs": [],
   "source": [
    "df['dateRep'] = df['dateRep'].apply(lambda dt: datetime.strptime(dt, '%d/%m/%Y'))"
   ]
  },
  {
   "cell_type": "code",
   "execution_count": 66,
   "metadata": {},
   "outputs": [
    {
     "data": {
      "text/html": [
       "<div>\n",
       "<style scoped>\n",
       "    .dataframe tbody tr th:only-of-type {\n",
       "        vertical-align: middle;\n",
       "    }\n",
       "\n",
       "    .dataframe tbody tr th {\n",
       "        vertical-align: top;\n",
       "    }\n",
       "\n",
       "    .dataframe thead th {\n",
       "        text-align: right;\n",
       "    }\n",
       "</style>\n",
       "<table border=\"1\" class=\"dataframe\">\n",
       "  <thead>\n",
       "    <tr style=\"text-align: right;\">\n",
       "      <th></th>\n",
       "      <th>dateRep</th>\n",
       "      <th>day</th>\n",
       "      <th>month</th>\n",
       "      <th>year</th>\n",
       "      <th>cases</th>\n",
       "      <th>deaths</th>\n",
       "      <th>countriesAndTerritories</th>\n",
       "      <th>geoId</th>\n",
       "      <th>countryterritoryCode</th>\n",
       "      <th>popData2018</th>\n",
       "      <th>continentExp</th>\n",
       "    </tr>\n",
       "  </thead>\n",
       "  <tbody>\n",
       "    <tr>\n",
       "      <th>0</th>\n",
       "      <td>2020-05-29</td>\n",
       "      <td>29</td>\n",
       "      <td>5</td>\n",
       "      <td>2020</td>\n",
       "      <td>580</td>\n",
       "      <td>8</td>\n",
       "      <td>Afghanistan</td>\n",
       "      <td>AF</td>\n",
       "      <td>AFG</td>\n",
       "      <td>37172386.0</td>\n",
       "      <td>Asia</td>\n",
       "    </tr>\n",
       "    <tr>\n",
       "      <th>1</th>\n",
       "      <td>2020-05-28</td>\n",
       "      <td>28</td>\n",
       "      <td>5</td>\n",
       "      <td>2020</td>\n",
       "      <td>625</td>\n",
       "      <td>7</td>\n",
       "      <td>Afghanistan</td>\n",
       "      <td>AF</td>\n",
       "      <td>AFG</td>\n",
       "      <td>37172386.0</td>\n",
       "      <td>Asia</td>\n",
       "    </tr>\n",
       "    <tr>\n",
       "      <th>2</th>\n",
       "      <td>2020-05-27</td>\n",
       "      <td>27</td>\n",
       "      <td>5</td>\n",
       "      <td>2020</td>\n",
       "      <td>658</td>\n",
       "      <td>1</td>\n",
       "      <td>Afghanistan</td>\n",
       "      <td>AF</td>\n",
       "      <td>AFG</td>\n",
       "      <td>37172386.0</td>\n",
       "      <td>Asia</td>\n",
       "    </tr>\n",
       "    <tr>\n",
       "      <th>3</th>\n",
       "      <td>2020-05-26</td>\n",
       "      <td>26</td>\n",
       "      <td>5</td>\n",
       "      <td>2020</td>\n",
       "      <td>591</td>\n",
       "      <td>1</td>\n",
       "      <td>Afghanistan</td>\n",
       "      <td>AF</td>\n",
       "      <td>AFG</td>\n",
       "      <td>37172386.0</td>\n",
       "      <td>Asia</td>\n",
       "    </tr>\n",
       "    <tr>\n",
       "      <th>4</th>\n",
       "      <td>2020-05-25</td>\n",
       "      <td>25</td>\n",
       "      <td>5</td>\n",
       "      <td>2020</td>\n",
       "      <td>584</td>\n",
       "      <td>2</td>\n",
       "      <td>Afghanistan</td>\n",
       "      <td>AF</td>\n",
       "      <td>AFG</td>\n",
       "      <td>37172386.0</td>\n",
       "      <td>Asia</td>\n",
       "    </tr>\n",
       "  </tbody>\n",
       "</table>\n",
       "</div>"
      ],
      "text/plain": [
       "     dateRep  day  month  year  cases  deaths countriesAndTerritories geoId  \\\n",
       "0 2020-05-29   29      5  2020    580       8             Afghanistan    AF   \n",
       "1 2020-05-28   28      5  2020    625       7             Afghanistan    AF   \n",
       "2 2020-05-27   27      5  2020    658       1             Afghanistan    AF   \n",
       "3 2020-05-26   26      5  2020    591       1             Afghanistan    AF   \n",
       "4 2020-05-25   25      5  2020    584       2             Afghanistan    AF   \n",
       "\n",
       "  countryterritoryCode  popData2018 continentExp  \n",
       "0                  AFG   37172386.0         Asia  \n",
       "1                  AFG   37172386.0         Asia  \n",
       "2                  AFG   37172386.0         Asia  \n",
       "3                  AFG   37172386.0         Asia  \n",
       "4                  AFG   37172386.0         Asia  "
      ]
     },
     "execution_count": 66,
     "metadata": {},
     "output_type": "execute_result"
    }
   ],
   "source": [
    "df.head()"
   ]
  },
  {
   "cell_type": "code",
   "execution_count": 67,
   "metadata": {},
   "outputs": [
    {
     "data": {
      "text/html": [
       "<div>\n",
       "<style scoped>\n",
       "    .dataframe tbody tr th:only-of-type {\n",
       "        vertical-align: middle;\n",
       "    }\n",
       "\n",
       "    .dataframe tbody tr th {\n",
       "        vertical-align: top;\n",
       "    }\n",
       "\n",
       "    .dataframe thead th {\n",
       "        text-align: right;\n",
       "    }\n",
       "</style>\n",
       "<table border=\"1\" class=\"dataframe\">\n",
       "  <thead>\n",
       "    <tr style=\"text-align: right;\">\n",
       "      <th></th>\n",
       "      <th>day</th>\n",
       "      <th>month</th>\n",
       "      <th>year</th>\n",
       "      <th>cases</th>\n",
       "      <th>deaths</th>\n",
       "      <th>popData2018</th>\n",
       "    </tr>\n",
       "  </thead>\n",
       "  <tbody>\n",
       "    <tr>\n",
       "      <th>count</th>\n",
       "      <td>20084.000000</td>\n",
       "      <td>20084.000000</td>\n",
       "      <td>20084.000000</td>\n",
       "      <td>20084.000000</td>\n",
       "      <td>20084.000000</td>\n",
       "      <td>1.980300e+04</td>\n",
       "    </tr>\n",
       "    <tr>\n",
       "      <th>mean</th>\n",
       "      <td>16.275095</td>\n",
       "      <td>3.633390</td>\n",
       "      <td>2019.996664</td>\n",
       "      <td>287.638618</td>\n",
       "      <td>17.929148</td>\n",
       "      <td>4.997769e+07</td>\n",
       "    </tr>\n",
       "    <tr>\n",
       "      <th>std</th>\n",
       "      <td>8.679024</td>\n",
       "      <td>1.374207</td>\n",
       "      <td>0.057663</td>\n",
       "      <td>1739.698954</td>\n",
       "      <td>124.397238</td>\n",
       "      <td>1.725276e+08</td>\n",
       "    </tr>\n",
       "    <tr>\n",
       "      <th>min</th>\n",
       "      <td>1.000000</td>\n",
       "      <td>1.000000</td>\n",
       "      <td>2019.000000</td>\n",
       "      <td>-2461.000000</td>\n",
       "      <td>-1918.000000</td>\n",
       "      <td>1.000000e+03</td>\n",
       "    </tr>\n",
       "    <tr>\n",
       "      <th>25%</th>\n",
       "      <td>9.000000</td>\n",
       "      <td>3.000000</td>\n",
       "      <td>2020.000000</td>\n",
       "      <td>0.000000</td>\n",
       "      <td>0.000000</td>\n",
       "      <td>2.119275e+06</td>\n",
       "    </tr>\n",
       "    <tr>\n",
       "      <th>50%</th>\n",
       "      <td>17.000000</td>\n",
       "      <td>4.000000</td>\n",
       "      <td>2020.000000</td>\n",
       "      <td>2.000000</td>\n",
       "      <td>0.000000</td>\n",
       "      <td>9.587522e+06</td>\n",
       "    </tr>\n",
       "    <tr>\n",
       "      <th>75%</th>\n",
       "      <td>24.000000</td>\n",
       "      <td>5.000000</td>\n",
       "      <td>2020.000000</td>\n",
       "      <td>46.000000</td>\n",
       "      <td>1.000000</td>\n",
       "      <td>3.369995e+07</td>\n",
       "    </tr>\n",
       "    <tr>\n",
       "      <th>max</th>\n",
       "      <td>31.000000</td>\n",
       "      <td>12.000000</td>\n",
       "      <td>2020.000000</td>\n",
       "      <td>48529.000000</td>\n",
       "      <td>4928.000000</td>\n",
       "      <td>1.392730e+09</td>\n",
       "    </tr>\n",
       "  </tbody>\n",
       "</table>\n",
       "</div>"
      ],
      "text/plain": [
       "                day         month          year         cases        deaths  \\\n",
       "count  20084.000000  20084.000000  20084.000000  20084.000000  20084.000000   \n",
       "mean      16.275095      3.633390   2019.996664    287.638618     17.929148   \n",
       "std        8.679024      1.374207      0.057663   1739.698954    124.397238   \n",
       "min        1.000000      1.000000   2019.000000  -2461.000000  -1918.000000   \n",
       "25%        9.000000      3.000000   2020.000000      0.000000      0.000000   \n",
       "50%       17.000000      4.000000   2020.000000      2.000000      0.000000   \n",
       "75%       24.000000      5.000000   2020.000000     46.000000      1.000000   \n",
       "max       31.000000     12.000000   2020.000000  48529.000000   4928.000000   \n",
       "\n",
       "        popData2018  \n",
       "count  1.980300e+04  \n",
       "mean   4.997769e+07  \n",
       "std    1.725276e+08  \n",
       "min    1.000000e+03  \n",
       "25%    2.119275e+06  \n",
       "50%    9.587522e+06  \n",
       "75%    3.369995e+07  \n",
       "max    1.392730e+09  "
      ]
     },
     "execution_count": 67,
     "metadata": {},
     "output_type": "execute_result"
    }
   ],
   "source": [
    "df.describe()"
   ]
  },
  {
   "cell_type": "code",
   "execution_count": 68,
   "metadata": {},
   "outputs": [
    {
     "name": "stdout",
     "output_type": "stream",
     "text": [
      "<class 'pandas.core.frame.DataFrame'>\n",
      "RangeIndex: 20084 entries, 0 to 20083\n",
      "Data columns (total 11 columns):\n",
      "dateRep                    20084 non-null datetime64[ns]\n",
      "day                        20084 non-null int64\n",
      "month                      20084 non-null int64\n",
      "year                       20084 non-null int64\n",
      "cases                      20084 non-null int64\n",
      "deaths                     20084 non-null int64\n",
      "countriesAndTerritories    20084 non-null object\n",
      "geoId                      20008 non-null object\n",
      "countryterritoryCode       19808 non-null object\n",
      "popData2018                19803 non-null float64\n",
      "continentExp               20084 non-null object\n",
      "dtypes: datetime64[ns](1), float64(1), int64(5), object(4)\n",
      "memory usage: 1.7+ MB\n"
     ]
    }
   ],
   "source": [
    "df.info()"
   ]
  },
  {
   "cell_type": "code",
   "execution_count": 7,
   "metadata": {},
   "outputs": [
    {
     "data": {
      "text/plain": [
       "array(['Asia', 'Europe', 'Africa', 'America', 'Oceania', 'Other'],\n",
       "      dtype=object)"
      ]
     },
     "execution_count": 7,
     "metadata": {},
     "output_type": "execute_result"
    }
   ],
   "source": [
    "df.continentExp.unique()"
   ]
  },
  {
   "cell_type": "code",
   "execution_count": 9,
   "metadata": {},
   "outputs": [
    {
     "data": {
      "text/plain": [
       "<matplotlib.axes._subplots.AxesSubplot at 0x7f8b694496d0>"
      ]
     },
     "execution_count": 9,
     "metadata": {},
     "output_type": "execute_result"
    },
    {
     "data": {
      "image/png": "[encoded data removed]",
      "text/plain": [
       "<Figure size 432x288 with 1 Axes>"
      ]
     },
     "metadata": {
      "needs_background": "light"
     },
     "output_type": "display_data"
    }
   ],
   "source": [
    "sns.barplot(x='continentExp', y='cases', data=df)"
   ]
  },
  {
   "cell_type": "code",
   "execution_count": 30,
   "metadata": {},
   "outputs": [
    {
     "data": {
      "text/plain": [
       "array(['07/03/2020', '03/03/2020', '04/03/2020', '05/03/2020',\n",
       "       '06/03/2020', '09/03/2020', '10/03/2020', '12/03/2020',\n",
       "       '13/03/2020', '14/03/2020', '31/12/2019', '01/01/2020',\n",
       "       '02/01/2020', '03/01/2020', '04/01/2020', '05/01/2020',\n",
       "       '06/01/2020', '07/01/2020', '08/01/2020', '09/01/2020',\n",
       "       '10/01/2020', '11/01/2020', '12/01/2020', '13/01/2020',\n",
       "       '14/01/2020', '15/01/2020', '16/01/2020', '17/01/2020',\n",
       "       '18/01/2020', '19/01/2020', '20/01/2020', '21/01/2020',\n",
       "       '22/01/2020', '23/01/2020', '24/01/2020', '25/01/2020',\n",
       "       '26/01/2020', '27/01/2020', '28/01/2020', '29/01/2020',\n",
       "       '30/01/2020', '31/01/2020', '01/02/2020', '02/02/2020',\n",
       "       '03/02/2020', '04/02/2020', '05/02/2020', '06/02/2020',\n",
       "       '07/02/2020', '08/02/2020', '09/02/2020', '10/02/2020',\n",
       "       '11/02/2020', '12/02/2020', '13/02/2020', '14/02/2020',\n",
       "       '15/02/2020', '16/02/2020', '17/02/2020', '18/02/2020',\n",
       "       '19/02/2020', '20/02/2020', '21/02/2020', '22/02/2020',\n",
       "       '23/02/2020', '24/02/2020', '25/02/2020', '26/02/2020',\n",
       "       '27/02/2020', '28/02/2020', '29/02/2020', '01/03/2020',\n",
       "       '02/03/2020', '08/03/2020', '11/03/2020', '15/03/2020',\n",
       "       '16/03/2020', '17/03/2020', '18/03/2020', '19/03/2020',\n",
       "       '20/03/2020', '21/03/2020', '22/03/2020', '23/03/2020',\n",
       "       '24/03/2020', '25/03/2020', '26/03/2020', '27/03/2020',\n",
       "       '28/03/2020', '29/03/2020', '30/03/2020', '31/03/2020',\n",
       "       '01/04/2020', '02/04/2020', '03/04/2020', '04/04/2020',\n",
       "       '05/04/2020', '06/04/2020', '07/04/2020', '08/04/2020',\n",
       "       '09/04/2020', '10/04/2020', '11/04/2020', '12/04/2020',\n",
       "       '13/04/2020', '14/04/2020', '15/04/2020', '16/04/2020',\n",
       "       '17/04/2020', '18/04/2020', '19/04/2020', '20/04/2020',\n",
       "       '21/04/2020', '22/04/2020', '23/04/2020', '24/04/2020',\n",
       "       '25/04/2020', '26/04/2020', '27/04/2020', '28/04/2020',\n",
       "       '29/04/2020', '30/04/2020', '01/05/2020', '02/05/2020',\n",
       "       '03/05/2020', '04/05/2020', '05/05/2020', '06/05/2020',\n",
       "       '07/05/2020', '08/05/2020', '09/05/2020', '10/05/2020',\n",
       "       '11/05/2020', '12/05/2020', '13/05/2020', '14/05/2020',\n",
       "       '15/05/2020', '16/05/2020', '17/05/2020', '18/05/2020',\n",
       "       '19/05/2020', '20/05/2020', '21/05/2020', '22/05/2020',\n",
       "       '23/05/2020', '24/05/2020', '25/05/2020', '26/05/2020',\n",
       "       '27/05/2020', '28/05/2020', '29/05/2020'], dtype=object)"
      ]
     },
     "execution_count": 30,
     "metadata": {},
     "output_type": "execute_result"
    }
   ],
   "source": [
    "dates = df['dateRep'].unique()[::-1]\n",
    "dates"
   ]
  },
  {
   "cell_type": "code",
   "execution_count": 31,
   "metadata": {},
   "outputs": [
    {
     "data": {
      "text/plain": [
       "dateRep\n",
       "01/01/2020        0\n",
       "01/02/2020     2120\n",
       "01/03/2020     1819\n",
       "01/04/2020    72599\n",
       "01/05/2020    84586\n",
       "              ...  \n",
       "30/03/2020    57810\n",
       "30/04/2020    77806\n",
       "31/01/2020     2003\n",
       "31/03/2020    63561\n",
       "31/12/2019       27\n",
       "Name: cases, Length: 151, dtype: int64"
      ]
     },
     "execution_count": 31,
     "metadata": {},
     "output_type": "execute_result"
    }
   ],
   "source": [
    "cases = df.groupby(['dateRep'])['cases'].sum()\n",
    "cases"
   ]
  },
  {
   "cell_type": "code",
   "execution_count": 34,
   "metadata": {},
   "outputs": [
    {
     "data": {
      "text/plain": [
       "Index(['01/01/2020', '01/02/2020', '01/03/2020', '01/04/2020', '01/05/2020',\n",
       "       '02/01/2020', '02/02/2020', '02/03/2020', '02/04/2020', '02/05/2020',\n",
       "       ...\n",
       "       '29/02/2020', '29/03/2020', '29/04/2020', '29/05/2020', '30/01/2020',\n",
       "       '30/03/2020', '30/04/2020', '31/01/2020', '31/03/2020', '31/12/2019'],\n",
       "      dtype='object', name='dateRep', length=151)"
      ]
     },
     "execution_count": 34,
     "metadata": {},
     "output_type": "execute_result"
    }
   ],
   "source": [
    "cases.index"
   ]
  },
  {
   "cell_type": "code",
   "execution_count": 33,
   "metadata": {},
   "outputs": [
    {
     "data": {
      "text/plain": [
       "<matplotlib.axes._subplots.AxesSubplot at 0x7f8b6beac110>"
      ]
     },
     "execution_count": 33,
     "metadata": {},
     "output_type": "execute_result"
    },
    {
     "data": {
      "image/png": "[encoded data removed]",
      "text/plain": [
       "<Figure size 432x288 with 1 Axes>"
      ]
     },
     "metadata": {
      "needs_background": "light"
     },
     "output_type": "display_data"
    }
   ],
   "source": [
    "sns.barplot(x=cases.index, y=cases.values)"
   ]
  },
  {
   "cell_type": "code",
   "execution_count": 69,
   "metadata": {},
   "outputs": [
    {
     "data": {
      "text/html": [
       "<div>\n",
       "<style scoped>\n",
       "    .dataframe tbody tr th:only-of-type {\n",
       "        vertical-align: middle;\n",
       "    }\n",
       "\n",
       "    .dataframe tbody tr th {\n",
       "        vertical-align: top;\n",
       "    }\n",
       "\n",
       "    .dataframe thead th {\n",
       "        text-align: right;\n",
       "    }\n",
       "</style>\n",
       "<table border=\"1\" class=\"dataframe\">\n",
       "  <thead>\n",
       "    <tr style=\"text-align: right;\">\n",
       "      <th></th>\n",
       "      <th>dateRep</th>\n",
       "      <th>day</th>\n",
       "      <th>month</th>\n",
       "      <th>year</th>\n",
       "      <th>cases</th>\n",
       "      <th>deaths</th>\n",
       "      <th>countriesAndTerritories</th>\n",
       "      <th>geoId</th>\n",
       "      <th>countryterritoryCode</th>\n",
       "      <th>popData2018</th>\n",
       "      <th>continentExp</th>\n",
       "    </tr>\n",
       "  </thead>\n",
       "  <tbody>\n",
       "    <tr>\n",
       "      <th>17170</th>\n",
       "      <td>2020-05-28</td>\n",
       "      <td>28</td>\n",
       "      <td>5</td>\n",
       "      <td>2020</td>\n",
       "      <td>1137</td>\n",
       "      <td>1</td>\n",
       "      <td>Spain</td>\n",
       "      <td>ES</td>\n",
       "      <td>ESP</td>\n",
       "      <td>46723749.0</td>\n",
       "      <td>Europe</td>\n",
       "    </tr>\n",
       "    <tr>\n",
       "      <th>17171</th>\n",
       "      <td>2020-05-27</td>\n",
       "      <td>27</td>\n",
       "      <td>5</td>\n",
       "      <td>2020</td>\n",
       "      <td>510</td>\n",
       "      <td>1</td>\n",
       "      <td>Spain</td>\n",
       "      <td>ES</td>\n",
       "      <td>ESP</td>\n",
       "      <td>46723749.0</td>\n",
       "      <td>Europe</td>\n",
       "    </tr>\n",
       "    <tr>\n",
       "      <th>17172</th>\n",
       "      <td>2020-05-26</td>\n",
       "      <td>26</td>\n",
       "      <td>5</td>\n",
       "      <td>2020</td>\n",
       "      <td>859</td>\n",
       "      <td>283</td>\n",
       "      <td>Spain</td>\n",
       "      <td>ES</td>\n",
       "      <td>ESP</td>\n",
       "      <td>46723749.0</td>\n",
       "      <td>Europe</td>\n",
       "    </tr>\n",
       "    <tr>\n",
       "      <th>17173</th>\n",
       "      <td>2020-05-25</td>\n",
       "      <td>25</td>\n",
       "      <td>5</td>\n",
       "      <td>2020</td>\n",
       "      <td>-372</td>\n",
       "      <td>-1918</td>\n",
       "      <td>Spain</td>\n",
       "      <td>ES</td>\n",
       "      <td>ESP</td>\n",
       "      <td>46723749.0</td>\n",
       "      <td>Europe</td>\n",
       "    </tr>\n",
       "    <tr>\n",
       "      <th>17174</th>\n",
       "      <td>2020-05-24</td>\n",
       "      <td>24</td>\n",
       "      <td>5</td>\n",
       "      <td>2020</td>\n",
       "      <td>482</td>\n",
       "      <td>74</td>\n",
       "      <td>Spain</td>\n",
       "      <td>ES</td>\n",
       "      <td>ESP</td>\n",
       "      <td>46723749.0</td>\n",
       "      <td>Europe</td>\n",
       "    </tr>\n",
       "  </tbody>\n",
       "</table>\n",
       "</div>"
      ],
      "text/plain": [
       "         dateRep  day  month  year  cases  deaths countriesAndTerritories  \\\n",
       "17170 2020-05-28   28      5  2020   1137       1                   Spain   \n",
       "17171 2020-05-27   27      5  2020    510       1                   Spain   \n",
       "17172 2020-05-26   26      5  2020    859     283                   Spain   \n",
       "17173 2020-05-25   25      5  2020   -372   -1918                   Spain   \n",
       "17174 2020-05-24   24      5  2020    482      74                   Spain   \n",
       "\n",
       "      geoId countryterritoryCode  popData2018 continentExp  \n",
       "17170    ES                  ESP   46723749.0       Europe  \n",
       "17171    ES                  ESP   46723749.0       Europe  \n",
       "17172    ES                  ESP   46723749.0       Europe  \n",
       "17173    ES                  ESP   46723749.0       Europe  \n",
       "17174    ES                  ESP   46723749.0       Europe  "
      ]
     },
     "execution_count": 69,
     "metadata": {},
     "output_type": "execute_result"
    }
   ],
   "source": [
    "df_spain = df[df['countriesAndTerritories']=='Spain']\n",
    "df_spain.head()"
   ]
  },
  {
   "cell_type": "code",
   "execution_count": 83,
   "metadata": {},
   "outputs": [
    {
     "data": {
      "text/plain": [
       "array(['2020-05-28T00:00:00.000000000', '2020-05-27T00:00:00.000000000',\n",
       "       '2020-05-26T00:00:00.000000000', '2020-05-25T00:00:00.000000000',\n",
       "       '2020-05-24T00:00:00.000000000', '2020-05-23T00:00:00.000000000',\n",
       "       '2020-05-22T00:00:00.000000000', '2020-05-21T00:00:00.000000000',\n",
       "       '2020-05-20T00:00:00.000000000', '2020-05-19T00:00:00.000000000',\n",
       "       '2020-05-18T00:00:00.000000000', '2020-05-17T00:00:00.000000000',\n",
       "       '2020-05-16T00:00:00.000000000', '2020-05-15T00:00:00.000000000',\n",
       "       '2020-05-14T00:00:00.000000000', '2020-05-13T00:00:00.000000000',\n",
       "       '2020-05-12T00:00:00.000000000', '2020-05-11T00:00:00.000000000',\n",
       "       '2020-05-10T00:00:00.000000000', '2020-05-09T00:00:00.000000000',\n",
       "       '2020-05-08T00:00:00.000000000', '2020-05-07T00:00:00.000000000',\n",
       "       '2020-05-06T00:00:00.000000000', '2020-05-05T00:00:00.000000000',\n",
       "       '2020-05-04T00:00:00.000000000', '2020-05-03T00:00:00.000000000',\n",
       "       '2020-05-02T00:00:00.000000000', '2020-05-01T00:00:00.000000000',\n",
       "       '2020-04-30T00:00:00.000000000', '2020-04-29T00:00:00.000000000',\n",
       "       '2020-04-28T00:00:00.000000000', '2020-04-27T00:00:00.000000000',\n",
       "       '2020-04-26T00:00:00.000000000', '2020-04-25T00:00:00.000000000',\n",
       "       '2020-04-24T00:00:00.000000000', '2020-04-23T00:00:00.000000000',\n",
       "       '2020-04-22T00:00:00.000000000', '2020-04-21T00:00:00.000000000',\n",
       "       '2020-04-20T00:00:00.000000000', '2020-04-19T00:00:00.000000000',\n",
       "       '2020-04-18T00:00:00.000000000', '2020-04-17T00:00:00.000000000',\n",
       "       '2020-04-16T00:00:00.000000000', '2020-04-15T00:00:00.000000000',\n",
       "       '2020-04-14T00:00:00.000000000', '2020-04-13T00:00:00.000000000',\n",
       "       '2020-04-12T00:00:00.000000000', '2020-04-11T00:00:00.000000000',\n",
       "       '2020-04-10T00:00:00.000000000', '2020-04-09T00:00:00.000000000',\n",
       "       '2020-04-08T00:00:00.000000000', '2020-04-07T00:00:00.000000000',\n",
       "       '2020-04-06T00:00:00.000000000', '2020-04-05T00:00:00.000000000',\n",
       "       '2020-04-04T00:00:00.000000000', '2020-04-03T00:00:00.000000000',\n",
       "       '2020-04-02T00:00:00.000000000', '2020-04-01T00:00:00.000000000',\n",
       "       '2020-03-31T00:00:00.000000000', '2020-03-30T00:00:00.000000000',\n",
       "       '2020-03-29T00:00:00.000000000', '2020-03-28T00:00:00.000000000',\n",
       "       '2020-03-27T00:00:00.000000000', '2020-03-26T00:00:00.000000000',\n",
       "       '2020-03-25T00:00:00.000000000', '2020-03-24T00:00:00.000000000',\n",
       "       '2020-03-23T00:00:00.000000000', '2020-03-22T00:00:00.000000000',\n",
       "       '2020-03-21T00:00:00.000000000', '2020-03-20T00:00:00.000000000',\n",
       "       '2020-03-19T00:00:00.000000000', '2020-03-18T00:00:00.000000000',\n",
       "       '2020-03-17T00:00:00.000000000', '2020-03-16T00:00:00.000000000',\n",
       "       '2020-03-15T00:00:00.000000000', '2020-03-14T00:00:00.000000000',\n",
       "       '2020-03-13T00:00:00.000000000', '2020-03-12T00:00:00.000000000',\n",
       "       '2020-03-11T00:00:00.000000000', '2020-03-10T00:00:00.000000000',\n",
       "       '2020-03-09T00:00:00.000000000', '2020-03-08T00:00:00.000000000',\n",
       "       '2020-03-07T00:00:00.000000000', '2020-03-06T00:00:00.000000000',\n",
       "       '2020-03-05T00:00:00.000000000', '2020-03-04T00:00:00.000000000',\n",
       "       '2020-03-03T00:00:00.000000000', '2020-03-02T00:00:00.000000000'],\n",
       "      dtype='datetime64[ns]')"
      ]
     },
     "execution_count": 83,
     "metadata": {},
     "output_type": "execute_result"
    }
   ],
   "source": [
    "df_spain_sort = df_spain[df_spain['dateRep']>'2020-03-01']\n",
    "df_spain_sort.dateRep.values"
   ]
  },
  {
   "cell_type": "code",
   "execution_count": 84,
   "metadata": {},
   "outputs": [
    {
     "data": {
      "image/png": "[encoded data removed]",
      "text/plain": [
       "<Figure size 1440x864 with 1 Axes>"
      ]
     },
     "metadata": {
      "needs_background": "light"
     },
     "output_type": "display_data"
    }
   ],
   "source": [
    "plt.figure(figsize=(20,12))\n",
    "sns.barplot(x='dateRep', y='cases', data=df_spain_sort.sort_values(by=['dateRep']), label='Casos en españa')\n",
    "plt.legend()\n",
    "plt.xticks(rotation=90)\n",
    "plt.show()"
   ]
  },
  {
   "cell_type": "code",
   "execution_count": null,
   "metadata": {},
   "outputs": [],
   "source": []
  }
 ],
 "metadata": {
  "kernelspec": {
   "display_name": "Python 3",
   "language": "python",
   "name": "python3"
  },
  "language_info": {
   "codemirror_mode": {
    "name": "ipython",
    "version": 3
   },
   "file_extension": ".py",
   "mimetype": "text/x-python",
   "name": "python",
   "nbconvert_exporter": "python",
   "pygments_lexer": "ipython3",
   "version": "3.7.4"
  }
 },
 "nbformat": 4,
 "nbformat_minor": 2
}
